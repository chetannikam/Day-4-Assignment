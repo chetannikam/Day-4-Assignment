{
 "cells": [
  {
   "cell_type": "markdown",
   "metadata": {},
   "source": [
    "# Problem 1 Solution"
   ]
  },
  {
   "cell_type": "code",
   "execution_count": 9,
   "metadata": {},
   "outputs": [
    {
     "name": "stdout",
     "output_type": "stream",
     "text": [
      "1\n",
      "22\n",
      "333\n",
      "4444\n",
      "55555\n"
     ]
    }
   ],
   "source": [
    "for i in range(1,6):\n",
    "    for j in range(0,i):\n",
    "        print(i,end=\"\")\n",
    "    print(\"\")"
   ]
  },
  {
   "cell_type": "markdown",
   "metadata": {},
   "source": [
    "# Problem 2 Solution"
   ]
  },
  {
   "cell_type": "code",
   "execution_count": 11,
   "metadata": {},
   "outputs": [
    {
     "name": "stdout",
     "output_type": "stream",
     "text": [
      "Enter the First Number:-10\n",
      "Enter the Second Number:-20\n",
      "Addition of Two Numbers is:- 30\n"
     ]
    }
   ],
   "source": [
    "class addition():\n",
    "    def __init__(self,a,b):\n",
    "        self.a=a\n",
    "        self.b=b\n",
    "    \n",
    "    def add(self):\n",
    "        self.c=self.a+self.b\n",
    "    def print_add(self):\n",
    "        print(\"Addition of Two Numbers is:-\",self.c)\n",
    "num1=int(input(\"Enter the First Number:-\"))\n",
    "num2=int(input(\"Enter the Second Number:-\"))\n",
    "o=addition(num1,num2)\n",
    "o.add()\n",
    "o.print_add()"
   ]
  },
  {
   "cell_type": "markdown",
   "metadata": {},
   "source": [
    "# Problem 3 Solution"
   ]
  },
  {
   "cell_type": "code",
   "execution_count": 14,
   "metadata": {},
   "outputs": [
    {
     "name": "stdout",
     "output_type": "stream",
     "text": [
      "Enter 1st Number10\n",
      "Enter 2nd Number20\n",
      "Inside Function a and b value is:-->20 10\n",
      "After swap Function:-->10 20\n"
     ]
    }
   ],
   "source": [
    "def swap(a,b):\n",
    "    temp=0\n",
    "    temp=a\n",
    "    a=b\n",
    "    b=temp\n",
    "    print(\"Inside Function a and b value is:-->\"+str(a)+\" \"+str(b))\n",
    "\n",
    "a=int(input(\"Enter 1st Number\"))\n",
    "b=int(input(\"Enter 2nd Number\"))\n",
    "swap(a,b)\n",
    "print(\"After swap Function:-->\"+str(a)+\" \"+str(b))\n",
    "\n",
    "    "
   ]
  },
  {
   "cell_type": "code",
   "execution_count": null,
   "metadata": {},
   "outputs": [],
   "source": []
  }
 ],
 "metadata": {
  "kernelspec": {
   "display_name": "Python 3",
   "language": "python",
   "name": "python3"
  },
  "language_info": {
   "codemirror_mode": {
    "name": "ipython",
    "version": 3
   },
   "file_extension": ".py",
   "mimetype": "text/x-python",
   "name": "python",
   "nbconvert_exporter": "python",
   "pygments_lexer": "ipython3",
   "version": "3.7.7"
  }
 },
 "nbformat": 4,
 "nbformat_minor": 4
}
